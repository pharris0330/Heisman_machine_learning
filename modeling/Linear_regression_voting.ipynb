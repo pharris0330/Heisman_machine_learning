{
 "cells": [
  {
   "cell_type": "code",
   "execution_count": 172,
   "id": "9f34c663-71b5-42a5-9788-0de45c25d755",
   "metadata": {},
   "outputs": [],
   "source": [
    "# Imports:\n",
    "import pandas as pd\n",
    "import numpy as np\n",
    "import matplotlib.pyplot as plt\n",
    "import math\n",
    "import seaborn as sns\n",
    "\n",
    "from sklearn.linear_model import LinearRegression, LassoCV, RidgeCV\n",
    "from sklearn.metrics import mean_squared_error\n",
    "from sklearn.model_selection import train_test_split, cross_val_score, cross_val_predict"
   ]
  },
  {
   "cell_type": "markdown",
   "id": "deede634-a492-4cac-a06c-1d12d7b5c113",
   "metadata": {},
   "source": []
  },
  {
   "cell_type": "code",
   "execution_count": 216,
   "id": "a5083037-d731-45bc-88d4-3231316665f6",
   "metadata": {},
   "outputs": [],
   "source": [
    "train = pd.read_csv('../passing/2000.csv', index_col=[0])"
   ]
  },
  {
   "cell_type": "code",
   "execution_count": null,
   "id": "5891b6bd-c621-4e87-a83c-6d8d0ef27474",
   "metadata": {},
   "outputs": [],
   "source": [
    "test = pd.read_csv('../passing/2000.csv', index_col=[0])"
   ]
  },
  {
   "cell_type": "code",
   "execution_count": null,
   "id": "93547eb7-dc91-414e-97a6-fe9c55c4ecae",
   "metadata": {},
   "outputs": [],
   "source": [
    "#find the missing school"
   ]
  },
  {
   "cell_type": "code",
   "execution_count": 179,
   "id": "07ddce20-37c2-47c8-9fba-82026d5c0aa7",
   "metadata": {},
   "outputs": [
    {
     "name": "stdout",
     "output_type": "stream",
     "text": [
      "96    Troy\n",
      "dtype: object\n"
     ]
    }
   ],
   "source": [
    "# create the series \n",
    "ser1 = test['school']\n",
    "ser2 = train['school']\n",
    "  \n",
    "# union of the series\n",
    "union = pd.Series(np.union1d(ser1, ser2))\n",
    "  \n",
    "# intersection of the series\n",
    "intersect = pd.Series(np.intersect1d(ser1, ser2))\n",
    "  \n",
    "# uncommon elements in both the series \n",
    "notcommonseries = union[~union.isin(intersect)]\n",
    "  \n",
    "# displaying the result\n",
    "print(notcommonseries)"
   ]
  },
  {
   "cell_type": "code",
   "execution_count": 180,
   "id": "83fae1d1-a788-44ce-9059-e1ee70711c75",
   "metadata": {},
   "outputs": [],
   "source": [
    "#how many extra teams"
   ]
  },
  {
   "cell_type": "code",
   "execution_count": 282,
   "id": "0ad9f441-6911-42e1-be24-1be83e58a3f6",
   "metadata": {},
   "outputs": [
    {
     "data": {
      "text/plain": [
       "93"
      ]
     },
     "execution_count": 282,
     "metadata": {},
     "output_type": "execute_result"
    }
   ],
   "source": [
    "len(test_copy['school'].unique())"
   ]
  },
  {
   "cell_type": "code",
   "execution_count": 275,
   "id": "3487ff12-a5e9-4077-bcea-aa72879bfb34",
   "metadata": {},
   "outputs": [
    {
     "data": {
      "text/plain": [
       "93"
      ]
     },
     "execution_count": 275,
     "metadata": {},
     "output_type": "execute_result"
    }
   ],
   "source": [
    "len(train['school'].unique())"
   ]
  },
  {
   "cell_type": "code",
   "execution_count": 285,
   "id": "1ba4c165-e3c9-48d5-9395-cb9198160eda",
   "metadata": {},
   "outputs": [],
   "source": [
    "#remove 2001 worst schools\n",
    "test_copy= test[(test.school != 'Duke')& (test.school != 'Baylor')& (test.school != 'Oklahoma State')  & (test.school != 'Tulsa')& (test.school != 'Rutgers')& (test.school != 'Houston')& (test.school != 'Ohio')& (test.school != 'Eastern Michigan')& (test.school != 'Navy')]\n"
   ]
  },
  {
   "cell_type": "code",
   "execution_count": null,
   "id": "d1d0aab3-277f-4ebc-ae14-836d608ced46",
   "metadata": {},
   "outputs": [],
   "source": []
  },
  {
   "cell_type": "code",
   "execution_count": 184,
   "id": "72efe49c-c36e-4d69-a3f8-258af9ee317a",
   "metadata": {},
   "outputs": [],
   "source": [
    "train_dummies = pd.get_dummies(train, columns=['school','conf'], drop_first=True)"
   ]
  },
  {
   "cell_type": "code",
   "execution_count": 185,
   "id": "d0cde0a7-e458-4235-ba74-a07e6733f81c",
   "metadata": {},
   "outputs": [],
   "source": [
    "test_dummies = pd.get_dummies(test_copy, columns=['school','conf'], drop_first=True)"
   ]
  },
  {
   "cell_type": "code",
   "execution_count": null,
   "id": "49d53ad7-087c-4e27-82df-4eeec58d8568",
   "metadata": {},
   "outputs": [],
   "source": []
  },
  {
   "cell_type": "markdown",
   "id": "70de5060-fabd-4652-ac54-1e5ed36d893a",
   "metadata": {},
   "source": [
    "### Obtaining best correlations"
   ]
  },
  {
   "cell_type": "code",
   "execution_count": 187,
   "id": "64189ef6-4a66-41ad-9673-a63f2ed26d41",
   "metadata": {},
   "outputs": [],
   "source": [
    "sale_price_corr = train_dummies.corr()['total_yds']"
   ]
  },
  {
   "cell_type": "code",
   "execution_count": 188,
   "id": "e3964af3-abdf-4838-88d1-85bd06f4d97e",
   "metadata": {},
   "outputs": [],
   "source": [
    "# Change max number of rows (to 101, for example)\n",
    "pd.set_option(\"display.max_rows\", 100)"
   ]
  },
  {
   "cell_type": "code",
   "execution_count": 189,
   "id": "de463c51-2f85-4f0c-b029-19451549cf65",
   "metadata": {
    "tags": []
   },
   "outputs": [
    {
     "data": {
      "text/plain": [
       "total_yds    1.000000\n",
       "pass_yds     0.892226\n",
       "pass_cmp     0.881232\n",
       "pass_att     0.880021\n",
       "total_td     0.876946\n",
       "pass_td      0.861811\n",
       "pass_rate    0.841311\n",
       "pass_ay/a    0.839270\n",
       "pass_y/a     0.839141\n",
       "pass_pct     0.837351\n",
       "pass_int     0.824442\n",
       "rush_att     0.346778\n",
       "rush_td      0.334917\n",
       "rush_yds     0.192426\n",
       "touches      0.182483\n",
       "Name: total_yds, dtype: float64"
      ]
     },
     "execution_count": 189,
     "metadata": {},
     "output_type": "execute_result"
    }
   ],
   "source": [
    "# discover dummy correlations\n",
    "test = sale_price_corr.sort_values(ascending=False)\n",
    "test[0:15]"
   ]
  },
  {
   "cell_type": "markdown",
   "id": "ba2a6e76-a336-462c-9ec9-e7945512ad86",
   "metadata": {},
   "source": [
    "### Creating X and y train"
   ]
  },
  {
   "cell_type": "code",
   "execution_count": 190,
   "id": "d353288f-6a37-4760-b860-0c8e5ec03200",
   "metadata": {},
   "outputs": [],
   "source": [
    "X_train = train_dummies.drop(columns=['total_yds','player'])"
   ]
  },
  {
   "cell_type": "code",
   "execution_count": 194,
   "id": "ef9d9fc4-48f4-4aad-b394-4d6b620cf180",
   "metadata": {},
   "outputs": [],
   "source": [
    "y_train = train_dummies['total_yds']"
   ]
  },
  {
   "cell_type": "markdown",
   "id": "297087fd-644b-4115-a513-1f918d5f1ab1",
   "metadata": {},
   "source": [
    "### Creating X and y test"
   ]
  },
  {
   "cell_type": "code",
   "execution_count": 196,
   "id": "04d02d82-754b-4c81-a204-b7b2922d8df8",
   "metadata": {},
   "outputs": [],
   "source": [
    "X_test = test_dummies.drop(columns=['total_yds','player'])\n",
    "y_test = test_dummies['total_yds']"
   ]
  },
  {
   "cell_type": "code",
   "execution_count": 197,
   "id": "66abab6f-bf8c-4c3a-a007-296d1ad1cb64",
   "metadata": {},
   "outputs": [
    {
     "name": "stdout",
     "output_type": "stream",
     "text": [
      "X Shapes:\n",
      "Train: (637, 149)\n",
      "Test: (663, 149)\n",
      " \n",
      "y Shapes:\n",
      "Train: (637,)\n",
      "Test: (663,)\n"
     ]
    }
   ],
   "source": [
    "# Get the shapes the training and testing subsets\n",
    "print(\"X Shapes:\")\n",
    "print(f\"Train: {X_train.shape}\")\n",
    "print(f\"Test: {X_test.shape}\")\n",
    "print(\" \")\n",
    "print(\"y Shapes:\")\n",
    "print(f\"Train: {y_train.shape}\")\n",
    "print(f\"Test: {y_test.shape}\")"
   ]
  },
  {
   "cell_type": "code",
   "execution_count": null,
   "id": "3d43cf15-b104-495f-a5bc-d3fb85e740ed",
   "metadata": {},
   "outputs": [],
   "source": []
  },
  {
   "cell_type": "markdown",
   "id": "ef3f1577-6c4a-4ccf-8890-7ec7f41f50a7",
   "metadata": {},
   "source": [
    "### Linear Regression model fit"
   ]
  },
  {
   "cell_type": "code",
   "execution_count": 198,
   "id": "df09b203-a825-4397-bee6-3f072c630cee",
   "metadata": {},
   "outputs": [
    {
     "data": {
      "text/plain": [
       "LinearRegression()"
      ]
     },
     "execution_count": 198,
     "metadata": {},
     "output_type": "execute_result"
    }
   ],
   "source": [
    "lr = LinearRegression()\n",
    "lr.fit(X_train, y_train)"
   ]
  },
  {
   "cell_type": "code",
   "execution_count": 199,
   "id": "c8d3aae9-c0aa-48e0-b4bb-6d707af4bb90",
   "metadata": {},
   "outputs": [
    {
     "data": {
      "text/plain": [
       "(1.0, 0.9999999999999912)"
      ]
     },
     "execution_count": 199,
     "metadata": {},
     "output_type": "execute_result"
    }
   ],
   "source": [
    "lr.score(X_train, y_train), lr.score(X_test, y_test)"
   ]
  },
  {
   "cell_type": "code",
   "execution_count": 200,
   "id": "7faca4e8-b878-4d4d-8c57-80ee6d80e9f9",
   "metadata": {},
   "outputs": [],
   "source": [
    "train_pred = lr.predict(X_train)\n",
    "test_pred = lr.predict(X_test)"
   ]
  },
  {
   "cell_type": "code",
   "execution_count": 201,
   "id": "fa74a7f6-3d7a-4684-9d05-55921a6eb45f",
   "metadata": {},
   "outputs": [
    {
     "data": {
      "text/plain": [
       "array([-232.5583741 , -211.38694209,  228.73270119, -191.24721778,\n",
       "       -222.42943042, -198.03834712, -113.43247677, -161.87742733,\n",
       "        -87.86089459, -262.2137441 ])"
      ]
     },
     "execution_count": 201,
     "metadata": {},
     "output_type": "execute_result"
    }
   ],
   "source": [
    "cross_val_predict(estimator=lr, X=X_test, y=y_test)[0:10]"
   ]
  },
  {
   "cell_type": "markdown",
   "id": "35f8212d-50d1-4dcc-847b-b5d7f8346efb",
   "metadata": {},
   "source": [
    "### Cross Validation"
   ]
  },
  {
   "cell_type": "code",
   "execution_count": 202,
   "id": "7f1573e3-26db-4f75-bb50-d6051ca52aad",
   "metadata": {},
   "outputs": [],
   "source": [
    "from sklearn.model_selection import cross_val_score, cross_val_predict"
   ]
  },
  {
   "cell_type": "code",
   "execution_count": 204,
   "id": "fdec6961-9dd0-4e71-a2c3-e39b4479d0c0",
   "metadata": {},
   "outputs": [
    {
     "data": {
      "text/plain": [
       "-0.22757106234073063"
      ]
     },
     "execution_count": 204,
     "metadata": {},
     "output_type": "execute_result"
    }
   ],
   "source": [
    "lr_scores = cross_val_score(lr, X_train, y_train, cv=5)\n",
    "lr_scores.mean()"
   ]
  },
  {
   "cell_type": "code",
   "execution_count": 205,
   "id": "eb71d5c5-4bd5-47f1-a0b1-4f8cb5d1fc29",
   "metadata": {},
   "outputs": [
    {
     "data": {
      "text/plain": [
       "array([-184.74507941,  154.23862202,  -80.21803887,  208.27642847,\n",
       "       -102.30134645,  649.79490803, -116.07776798,  535.55773277,\n",
       "        400.88443808, -102.06150581])"
      ]
     },
     "execution_count": 205,
     "metadata": {},
     "output_type": "execute_result"
    }
   ],
   "source": [
    "cross_val_predict(estimator=lr, X=X_train, y=y_train)[0:10]"
   ]
  },
  {
   "cell_type": "code",
   "execution_count": null,
   "id": "770bd8d7-4b11-4833-b878-581e8bc08f8f",
   "metadata": {},
   "outputs": [],
   "source": []
  },
  {
   "cell_type": "markdown",
   "id": "bc93043e-d54b-4733-bbcf-a2ff5519dab8",
   "metadata": {},
   "source": [
    "## Interpreting Slopes for dummie variables"
   ]
  },
  {
   "cell_type": "code",
   "execution_count": 28,
   "id": "677ad8f1-9d04-470f-9867-d94e6df9cce6",
   "metadata": {},
   "outputs": [],
   "source": [
    "# features = ['Overall Qual', 'Gr Liv Area','Garage Cars', 'Garage Area','Total Bsmt SF','Garage Cond_TA','Bsmt Cond_Gd','Exter Cond_TA']"
   ]
  },
  {
   "cell_type": "code",
   "execution_count": 29,
   "id": "61e7b288-9222-425a-b479-c32e239b25ff",
   "metadata": {},
   "outputs": [
    {
     "data": {
      "text/plain": [
       "[('Overall Qual', 22220.81409721702),\n",
       " ('Gr Liv Area', 46.19185930554918),\n",
       " ('Garage Cars', 6943.4239197068455),\n",
       " ('Garage Area', 46.705384041603764),\n",
       " ('Total Bsmt SF', 36.69379693546824),\n",
       " ('Garage Cond_TA', -4911.299822331424),\n",
       " ('Bsmt Cond_Gd', 5532.293924262402),\n",
       " ('Exter Cond_TA', -2587.9909574247285)]"
      ]
     },
     "execution_count": 29,
     "metadata": {},
     "output_type": "execute_result"
    }
   ],
   "source": [
    "list(zip(features, lr.coef_))"
   ]
  },
  {
   "cell_type": "code",
   "execution_count": 30,
   "id": "89223de8-d3f6-46ea-b036-939cfa76d0b9",
   "metadata": {},
   "outputs": [
    {
     "data": {
      "text/html": [
       "<div>\n",
       "<style scoped>\n",
       "    .dataframe tbody tr th:only-of-type {\n",
       "        vertical-align: middle;\n",
       "    }\n",
       "\n",
       "    .dataframe tbody tr th {\n",
       "        vertical-align: top;\n",
       "    }\n",
       "\n",
       "    .dataframe thead th {\n",
       "        text-align: right;\n",
       "    }\n",
       "</style>\n",
       "<table border=\"1\" class=\"dataframe\">\n",
       "  <thead>\n",
       "    <tr style=\"text-align: right;\">\n",
       "      <th></th>\n",
       "      <th>Coefficient</th>\n",
       "    </tr>\n",
       "  </thead>\n",
       "  <tbody>\n",
       "    <tr>\n",
       "      <th>Overall Qual</th>\n",
       "      <td>22220.814097</td>\n",
       "    </tr>\n",
       "    <tr>\n",
       "      <th>Gr Liv Area</th>\n",
       "      <td>46.191859</td>\n",
       "    </tr>\n",
       "    <tr>\n",
       "      <th>Garage Cars</th>\n",
       "      <td>6943.423920</td>\n",
       "    </tr>\n",
       "    <tr>\n",
       "      <th>Garage Area</th>\n",
       "      <td>46.705384</td>\n",
       "    </tr>\n",
       "    <tr>\n",
       "      <th>Total Bsmt SF</th>\n",
       "      <td>36.693797</td>\n",
       "    </tr>\n",
       "    <tr>\n",
       "      <th>Garage Cond_TA</th>\n",
       "      <td>-4911.299822</td>\n",
       "    </tr>\n",
       "    <tr>\n",
       "      <th>Bsmt Cond_Gd</th>\n",
       "      <td>5532.293924</td>\n",
       "    </tr>\n",
       "    <tr>\n",
       "      <th>Exter Cond_TA</th>\n",
       "      <td>-2587.990957</td>\n",
       "    </tr>\n",
       "  </tbody>\n",
       "</table>\n",
       "</div>"
      ],
      "text/plain": [
       "                 Coefficient\n",
       "Overall Qual    22220.814097\n",
       "Gr Liv Area        46.191859\n",
       "Garage Cars      6943.423920\n",
       "Garage Area        46.705384\n",
       "Total Bsmt SF      36.693797\n",
       "Garage Cond_TA  -4911.299822\n",
       "Bsmt Cond_Gd     5532.293924\n",
       "Exter Cond_TA   -2587.990957"
      ]
     },
     "execution_count": 30,
     "metadata": {},
     "output_type": "execute_result"
    }
   ],
   "source": [
    "# Use a data frame\n",
    "pd.DataFrame(lr.coef_, index=features, columns=['Coefficient'])"
   ]
  },
  {
   "cell_type": "code",
   "execution_count": 31,
   "id": "1189c690-2719-4466-94c1-2191492e0753",
   "metadata": {
    "tags": []
   },
   "outputs": [
    {
     "data": {
      "text/plain": [
       "['Overall Qual: 22220.81409721702',\n",
       " 'Gr Liv Area: 46.19185930554918',\n",
       " 'Garage Cars: 6943.4239197068455',\n",
       " 'Garage Area: 46.705384041603764',\n",
       " 'Total Bsmt SF: 36.69379693546824',\n",
       " 'Garage Cond_TA: -4911.299822331424',\n",
       " 'Bsmt Cond_Gd: 5532.293924262402',\n",
       " 'Exter Cond_TA: -2587.9909574247285']"
      ]
     },
     "execution_count": 31,
     "metadata": {},
     "output_type": "execute_result"
    }
   ],
   "source": [
    "[f'{X.columns[i]}: {lr.coef_[i]}' for i in range(len(X.columns))]"
   ]
  },
  {
   "cell_type": "markdown",
   "id": "e1100f74-4b43-40b5-b60c-577b8c2141f5",
   "metadata": {},
   "source": [
    "## Making predictions"
   ]
  },
  {
   "cell_type": "code",
   "execution_count": 212,
   "id": "6d806d04-ad89-4d95-a215-8dd94733f38e",
   "metadata": {},
   "outputs": [],
   "source": [
    "# get predictions from our X data\n",
    "predictions = lr.predict(X_test)"
   ]
  },
  {
   "cell_type": "code",
   "execution_count": 213,
   "id": "534235f5-abca-4566-9936-4e269ff07c87",
   "metadata": {},
   "outputs": [
    {
     "data": {
      "text/plain": [
       "array([3896.00005007, 2521.        , 3121.99992919, 3042.99998556,\n",
       "       4905.9999825 ])"
      ]
     },
     "execution_count": 213,
     "metadata": {},
     "output_type": "execute_result"
    }
   ],
   "source": [
    "predictions[0:5]"
   ]
  },
  {
   "cell_type": "code",
   "execution_count": 214,
   "id": "8dd8fa88-122a-4259-8957-31ee9156426e",
   "metadata": {},
   "outputs": [
    {
     "data": {
      "text/plain": [
       "0    3896.0\n",
       "1    2521.0\n",
       "2    3122.0\n",
       "3    3043.0\n",
       "4    4906.0\n",
       "Name: total_yds, dtype: float64"
      ]
     },
     "execution_count": 214,
     "metadata": {},
     "output_type": "execute_result"
    }
   ],
   "source": [
    "#Compare to actual values\n",
    "y_test.head()"
   ]
  },
  {
   "cell_type": "code",
   "execution_count": null,
   "id": "35dca30b-341f-43fd-b00d-553cf64d2710",
   "metadata": {},
   "outputs": [],
   "source": []
  },
  {
   "cell_type": "markdown",
   "id": "35f89cf7-4070-4227-869f-f407a614568d",
   "metadata": {},
   "source": [
    "### Residuals"
   ]
  },
  {
   "cell_type": "code",
   "execution_count": 2,
   "id": "456db608-2d0f-47d6-be15-3ea2128e45a3",
   "metadata": {},
   "outputs": [
    {
     "ename": "NameError",
     "evalue": "name 'y_test' is not defined",
     "output_type": "error",
     "traceback": [
      "\u001b[1;31m---------------------------------------------------------------------------\u001b[0m",
      "\u001b[1;31mNameError\u001b[0m                                 Traceback (most recent call last)",
      "\u001b[1;32m<ipython-input-2-e01d4507fed9>\u001b[0m in \u001b[0;36m<module>\u001b[1;34m\u001b[0m\n\u001b[0;32m      1\u001b[0m \u001b[1;31m# calculate residuals (y - yhat/predicted values)\u001b[0m\u001b[1;33m\u001b[0m\u001b[1;33m\u001b[0m\u001b[1;33m\u001b[0m\u001b[0m\n\u001b[1;32m----> 2\u001b[1;33m \u001b[0mresiduals\u001b[0m \u001b[1;33m=\u001b[0m \u001b[0my_test\u001b[0m \u001b[1;33m-\u001b[0m \u001b[0mpredictions\u001b[0m\u001b[1;33m\u001b[0m\u001b[1;33m\u001b[0m\u001b[0m\n\u001b[0m\u001b[0;32m      3\u001b[0m \u001b[0mresiduals\u001b[0m\u001b[1;33m[\u001b[0m\u001b[1;36m0\u001b[0m\u001b[1;33m:\u001b[0m\u001b[1;36m5\u001b[0m\u001b[1;33m]\u001b[0m\u001b[1;33m\u001b[0m\u001b[1;33m\u001b[0m\u001b[0m\n",
      "\u001b[1;31mNameError\u001b[0m: name 'y_test' is not defined"
     ]
    }
   ],
   "source": [
    "# calculate residuals (y - yhat/predicted values)\n",
    "residuals = y_test - predictions\n",
    "residuals[0:5]"
   ]
  },
  {
   "cell_type": "code",
   "execution_count": 60,
   "id": "5c39ac76-c354-47d0-a9d2-df7554f8ee2b",
   "metadata": {},
   "outputs": [
    {
     "data": {
      "text/plain": [
       "-0.0"
      ]
     },
     "execution_count": 60,
     "metadata": {},
     "output_type": "execute_result"
    }
   ],
   "source": [
    "round(np.mean(residuals),2)"
   ]
  },
  {
   "cell_type": "code",
   "execution_count": 61,
   "id": "9c28cf09-fea7-4112-9471-8a54cfd3b2a8",
   "metadata": {},
   "outputs": [
    {
     "data": {
      "text/plain": [
       "-8.997233448415962e-14"
      ]
     },
     "execution_count": 61,
     "metadata": {},
     "output_type": "execute_result"
    }
   ],
   "source": [
    "# mean of residuals\n",
    "residuals.mean()"
   ]
  },
  {
   "cell_type": "code",
   "execution_count": 62,
   "id": "d8f5cb12-86c7-41fc-bdf9-32804a0544a6",
   "metadata": {},
   "outputs": [
    {
     "data": {
      "text/plain": [
       "-8.997233448415962e-14"
      ]
     },
     "execution_count": 62,
     "metadata": {},
     "output_type": "execute_result"
    }
   ],
   "source": [
    "np.mean(residuals)"
   ]
  },
  {
   "cell_type": "code",
   "execution_count": null,
   "id": "5c7ffa20-83b2-489f-af05-b46cbb33c2d7",
   "metadata": {},
   "outputs": [],
   "source": []
  },
  {
   "cell_type": "code",
   "execution_count": null,
   "id": "957ae7b5-f9a4-439c-90ee-602ef55ed34f",
   "metadata": {},
   "outputs": [],
   "source": []
  },
  {
   "cell_type": "markdown",
   "id": "45303a49-e77c-493d-903a-dbc29a166765",
   "metadata": {},
   "source": [
    "## LINE Assumptions \n",
    "The assumptions necessary to conduct a proper linear regression are easily remembered by the \"LINE\" acronym:\n",
    "\n",
    "* L - Linearity: there is a linear relationship between x and y (fix: apply non-linear transformation)\n",
    "* I - Independence of residuals (usually assumed)\n",
    "* N - Normality: residuals are normally distributed (fix: log y variable)\n",
    "* E - Equality of variance: residuals have constant variance (fix: check outliers, non-linear transformation)"
   ]
  },
  {
   "cell_type": "code",
   "execution_count": 40,
   "id": "2fd2ed90-4022-47f4-b68f-65e96d2c3056",
   "metadata": {},
   "outputs": [],
   "source": [
    "# I assumption:\n",
    "# true by assumption"
   ]
  },
  {
   "cell_type": "code",
   "execution_count": 63,
   "id": "109710bc-1604-4548-9d51-64d2b99b5879",
   "metadata": {},
   "outputs": [
    {
     "data": {
      "image/png": "[encoded data removed]",
      "text/plain": [
       "<Figure size 432x288 with 1 Axes>"
      ]
     },
     "metadata": {
      "needs_background": "light"
     },
     "output_type": "display_data"
    }
   ],
   "source": [
    "# N assumption:\n",
    "#Check the normality (of residuals) assumption\n",
    "plt.hist(residuals, bins = 20);"
   ]
  },
  {
   "cell_type": "code",
   "execution_count": 64,
   "id": "90d8a584-b558-43c6-b242-68cbb0a9213a",
   "metadata": {},
   "outputs": [
    {
     "data": {
      "image/png": "[encoded data removed]",
      "text/plain": [
       "<Figure size 432x288 with 1 Axes>"
      ]
     },
     "metadata": {
      "needs_background": "light"
     },
     "output_type": "display_data"
    }
   ],
   "source": [
    "# L and E assumption\n",
    "# our actual residuals\n",
    "plt.scatter(predictions, residuals)\n",
    "plt.axhline(0, color='orange');"
   ]
  },
  {
   "cell_type": "code",
   "execution_count": null,
   "id": "4a3c754d-3021-49f9-853f-b37c8b0168c0",
   "metadata": {},
   "outputs": [],
   "source": []
  },
  {
   "cell_type": "markdown",
   "id": "3b5b8abc-983c-4a49-8648-ed848d7314e5",
   "metadata": {},
   "source": [
    "### MSE and RMSE"
   ]
  },
  {
   "cell_type": "code",
   "execution_count": 65,
   "id": "6b3dfd8a-b6f9-4cf1-b0d2-0948fee3e2f6",
   "metadata": {},
   "outputs": [
    {
     "data": {
      "text/plain": [
       "3.01651201817898e-25"
      ]
     },
     "execution_count": 65,
     "metadata": {},
     "output_type": "execute_result"
    }
   ],
   "source": [
    "# MSE for training\n",
    "mean_squared_error(y_true=y_train, y_pred=train_pred)"
   ]
  },
  {
   "cell_type": "code",
   "execution_count": 66,
   "id": "73d01f1b-44ca-434b-b393-f0c66700345f",
   "metadata": {},
   "outputs": [
    {
     "data": {
      "text/plain": [
       "3.3903394013352634e-25"
      ]
     },
     "execution_count": 66,
     "metadata": {},
     "output_type": "execute_result"
    }
   ],
   "source": [
    "# MSE for testing\n",
    "mean_squared_error(y_true=y_test, y_pred=test_pred)"
   ]
  },
  {
   "cell_type": "code",
   "execution_count": 67,
   "id": "ac0bebde-c178-4944-bf6e-83eaa2bad638",
   "metadata": {},
   "outputs": [
    {
     "data": {
      "text/plain": [
       "5.492278232372228e-13"
      ]
     },
     "execution_count": 67,
     "metadata": {},
     "output_type": "execute_result"
    }
   ],
   "source": [
    "# RMSE for training\n",
    "mean_squared_error(y_true=y_train, y_pred=train_pred, squared = False)"
   ]
  },
  {
   "cell_type": "code",
   "execution_count": 68,
   "id": "2c33409e-ecc2-4573-bb0b-ed4301e69e99",
   "metadata": {},
   "outputs": [
    {
     "data": {
      "text/plain": [
       "5.822662107090934e-13"
      ]
     },
     "execution_count": 68,
     "metadata": {},
     "output_type": "execute_result"
    }
   ],
   "source": [
    "# RMSE for testing\n",
    "mean_squared_error(y_true=y_test, y_pred=test_pred, squared = False)"
   ]
  },
  {
   "cell_type": "code",
   "execution_count": null,
   "id": "c768cc9b-5c4c-44fb-8b87-43a3414bc9ef",
   "metadata": {},
   "outputs": [],
   "source": []
  },
  {
   "cell_type": "markdown",
   "id": "eb8764ac-00df-40b0-aaaa-b6c5788ec6f9",
   "metadata": {},
   "source": [
    "## Coefficient of Determination, $R^2$"
   ]
  },
  {
   "cell_type": "code",
   "execution_count": 69,
   "id": "bc40090f-e767-4700-a68e-00ba5a48e9a3",
   "metadata": {},
   "outputs": [],
   "source": [
    "# Null prediction\n",
    "null_prediction = y.mean()"
   ]
  },
  {
   "cell_type": "code",
   "execution_count": 70,
   "id": "b1729416-7b77-43c7-a2d0-8ecc2f2a602e",
   "metadata": {},
   "outputs": [],
   "source": [
    "# Null residuals\n",
    "null_residuals = y - null_prediction"
   ]
  },
  {
   "cell_type": "code",
   "execution_count": 71,
   "id": "a2e50636-e70f-4921-82de-5055fbe40feb",
   "metadata": {},
   "outputs": [],
   "source": [
    "# Null sum of squares\n",
    "null_ss = (null_residuals ** 2).sum()"
   ]
  },
  {
   "cell_type": "code",
   "execution_count": 72,
   "id": "dc427dfd-4d3c-477b-b357-27b284a7c4d9",
   "metadata": {},
   "outputs": [
    {
     "data": {
      "text/plain": [
       "318324522.3924647"
      ]
     },
     "execution_count": 72,
     "metadata": {},
     "output_type": "execute_result"
    }
   ],
   "source": [
    "null_ss"
   ]
  },
  {
   "cell_type": "code",
   "execution_count": 73,
   "id": "9fad2776-2d3a-4aee-9251-798bcabb13ef",
   "metadata": {},
   "outputs": [
    {
     "data": {
      "text/plain": [
       "1.0"
      ]
     },
     "execution_count": 73,
     "metadata": {},
     "output_type": "execute_result"
    }
   ],
   "source": [
    "# R2 from model\n",
    "R2 = round(lr.score(X, y),2)\n",
    "R2"
   ]
  },
  {
   "cell_type": "code",
   "execution_count": 74,
   "id": "857dc9b5-b0f0-42bc-b3fd-cd8fd0ce215e",
   "metadata": {},
   "outputs": [
    {
     "ename": "NameError",
     "evalue": "name 'features' is not defined",
     "output_type": "error",
     "traceback": [
      "\u001b[1;31m---------------------------------------------------------------------------\u001b[0m",
      "\u001b[1;31mNameError\u001b[0m                                 Traceback (most recent call last)",
      "\u001b[1;32m<ipython-input-74-d5df836330ba>\u001b[0m in \u001b[0;36m<module>\u001b[1;34m\u001b[0m\n\u001b[0;32m      1\u001b[0m \u001b[1;31m# # Adjusted R-squared: Adjusted R2 = 1 – [(1-R2)*(n-1)/(n-k-1)]\u001b[0m\u001b[1;33m\u001b[0m\u001b[1;33m\u001b[0m\u001b[1;33m\u001b[0m\u001b[0m\n\u001b[0;32m      2\u001b[0m \u001b[0mn\u001b[0m \u001b[1;33m=\u001b[0m \u001b[0mlen\u001b[0m\u001b[1;33m(\u001b[0m\u001b[0my\u001b[0m\u001b[1;33m)\u001b[0m\u001b[1;33m\u001b[0m\u001b[1;33m\u001b[0m\u001b[0m\n\u001b[1;32m----> 3\u001b[1;33m \u001b[0mk\u001b[0m \u001b[1;33m=\u001b[0m \u001b[0mlen\u001b[0m\u001b[1;33m(\u001b[0m\u001b[0mfeatures\u001b[0m\u001b[1;33m)\u001b[0m\u001b[1;33m\u001b[0m\u001b[1;33m\u001b[0m\u001b[0m\n\u001b[0m\u001b[0;32m      4\u001b[0m \u001b[1;33m\u001b[0m\u001b[0m\n\u001b[0;32m      5\u001b[0m \u001b[1;36m1\u001b[0m \u001b[1;33m-\u001b[0m \u001b[1;33m(\u001b[0m\u001b[1;33m(\u001b[0m\u001b[1;36m1\u001b[0m\u001b[1;33m-\u001b[0m\u001b[0mR2\u001b[0m\u001b[1;33m)\u001b[0m\u001b[1;33m*\u001b[0m\u001b[1;33m(\u001b[0m\u001b[0mn\u001b[0m\u001b[1;33m-\u001b[0m\u001b[1;36m1\u001b[0m\u001b[1;33m)\u001b[0m\u001b[1;33m/\u001b[0m\u001b[1;33m(\u001b[0m\u001b[0mn\u001b[0m\u001b[1;33m-\u001b[0m\u001b[0mk\u001b[0m\u001b[1;33m-\u001b[0m\u001b[1;36m1\u001b[0m\u001b[1;33m)\u001b[0m\u001b[1;33m)\u001b[0m\u001b[1;33m\u001b[0m\u001b[1;33m\u001b[0m\u001b[0m\n",
      "\u001b[1;31mNameError\u001b[0m: name 'features' is not defined"
     ]
    }
   ],
   "source": [
    "# # Adjusted R-squared: Adjusted R2 = 1 – [(1-R2)*(n-1)/(n-k-1)]\n",
    "n = len(y)\n",
    "k = len(features)\n",
    "\n",
    "1 - ((1-R2)*(n-1)/(n-k-1))"
   ]
  },
  {
   "cell_type": "markdown",
   "id": "02052838-1e17-4d7e-a2d7-89e0eff7c27f",
   "metadata": {},
   "source": [
    "### Plotting residuals"
   ]
  },
  {
   "cell_type": "code",
   "execution_count": 75,
   "id": "d7a6497c-a0cd-49bc-8ca8-ec83db4ea17f",
   "metadata": {},
   "outputs": [],
   "source": [
    "train_resids = y_train - train_pred\n",
    "test_resids = y_test - test_pred"
   ]
  },
  {
   "cell_type": "code",
   "execution_count": 76,
   "id": "e7236b30-99c1-4760-b394-7f6f990444ea",
   "metadata": {},
   "outputs": [
    {
     "data": {
      "text/plain": [
       "<matplotlib.lines.Line2D at 0x1ba2a1e0cd0>"
      ]
     },
     "execution_count": 76,
     "metadata": {},
     "output_type": "execute_result"
    },
    {
     "data": {
      "image/png": "[encoded data removed]",
      "text/plain": [
       "<Figure size 432x288 with 1 Axes>"
      ]
     },
     "metadata": {
      "needs_background": "light"
     },
     "output_type": "display_data"
    }
   ],
   "source": [
    "#plt resids\n",
    "plt.scatter(y_test, test_resids)\n",
    "plt.xlabel('Actual')\n",
    "plt.ylabel('Residuals')\n",
    "plt.axhline(0, c='red', linestyle='--')"
   ]
  },
  {
   "cell_type": "markdown",
   "id": "eb1e683f-b3ed-4185-aafb-32c8bc54a3b5",
   "metadata": {},
   "source": [
    "### Plotting true vs. predicted"
   ]
  },
  {
   "cell_type": "code",
   "execution_count": 77,
   "id": "49bf38d7-1d38-4f53-93d6-374c3e869a4a",
   "metadata": {},
   "outputs": [
    {
     "data": {
      "image/png": "[encoded data removed]",
      "text/plain": [
       "<Figure size 432x288 with 1 Axes>"
      ]
     },
     "metadata": {
      "needs_background": "light"
     },
     "output_type": "display_data"
    }
   ],
   "source": [
    "plt.scatter(y_test, test_pred)\n",
    "plt.title('True vs. predicted');"
   ]
  },
  {
   "cell_type": "code",
   "execution_count": 78,
   "id": "3fc72243-d212-4dcf-b6a4-324ccf781b42",
   "metadata": {},
   "outputs": [
    {
     "data": {
      "text/html": [
       "<div>\n",
       "<style scoped>\n",
       "    .dataframe tbody tr th:only-of-type {\n",
       "        vertical-align: middle;\n",
       "    }\n",
       "\n",
       "    .dataframe tbody tr th {\n",
       "        vertical-align: top;\n",
       "    }\n",
       "\n",
       "    .dataframe thead th {\n",
       "        text-align: right;\n",
       "    }\n",
       "</style>\n",
       "<table border=\"1\" class=\"dataframe\">\n",
       "  <thead>\n",
       "    <tr style=\"text-align: right;\">\n",
       "      <th></th>\n",
       "      <th>g</th>\n",
       "      <th>pass_cmp</th>\n",
       "      <th>pass_att</th>\n",
       "      <th>pass_pct</th>\n",
       "      <th>pass_yds</th>\n",
       "      <th>pass_y/a</th>\n",
       "      <th>pass_ay/a</th>\n",
       "      <th>pass_td</th>\n",
       "      <th>pass_int</th>\n",
       "      <th>pass_rate</th>\n",
       "      <th>...</th>\n",
       "      <th>conf_Big East</th>\n",
       "      <th>conf_Big Ten</th>\n",
       "      <th>conf_Big West</th>\n",
       "      <th>conf_CUSA</th>\n",
       "      <th>conf_Ind</th>\n",
       "      <th>conf_MAC</th>\n",
       "      <th>conf_MWC</th>\n",
       "      <th>conf_Pac-10</th>\n",
       "      <th>conf_SEC</th>\n",
       "      <th>conf_WAC</th>\n",
       "    </tr>\n",
       "  </thead>\n",
       "  <tbody>\n",
       "    <tr>\n",
       "      <th>602</th>\n",
       "      <td>12.0</td>\n",
       "      <td>0.0</td>\n",
       "      <td>0.0</td>\n",
       "      <td>0.0</td>\n",
       "      <td>0.0</td>\n",
       "      <td>0.0</td>\n",
       "      <td>0.0</td>\n",
       "      <td>0.0</td>\n",
       "      <td>0.0</td>\n",
       "      <td>0.0</td>\n",
       "      <td>...</td>\n",
       "      <td>0</td>\n",
       "      <td>0</td>\n",
       "      <td>0</td>\n",
       "      <td>0</td>\n",
       "      <td>0</td>\n",
       "      <td>0</td>\n",
       "      <td>0</td>\n",
       "      <td>0</td>\n",
       "      <td>0</td>\n",
       "      <td>1</td>\n",
       "    </tr>\n",
       "    <tr>\n",
       "      <th>380</th>\n",
       "      <td>11.0</td>\n",
       "      <td>0.0</td>\n",
       "      <td>0.0</td>\n",
       "      <td>0.0</td>\n",
       "      <td>0.0</td>\n",
       "      <td>0.0</td>\n",
       "      <td>0.0</td>\n",
       "      <td>0.0</td>\n",
       "      <td>0.0</td>\n",
       "      <td>0.0</td>\n",
       "      <td>...</td>\n",
       "      <td>0</td>\n",
       "      <td>0</td>\n",
       "      <td>0</td>\n",
       "      <td>0</td>\n",
       "      <td>0</td>\n",
       "      <td>0</td>\n",
       "      <td>0</td>\n",
       "      <td>0</td>\n",
       "      <td>0</td>\n",
       "      <td>0</td>\n",
       "    </tr>\n",
       "    <tr>\n",
       "      <th>79</th>\n",
       "      <td>10.0</td>\n",
       "      <td>149.0</td>\n",
       "      <td>260.0</td>\n",
       "      <td>57.3</td>\n",
       "      <td>1617.0</td>\n",
       "      <td>6.2</td>\n",
       "      <td>5.8</td>\n",
       "      <td>6.0</td>\n",
       "      <td>5.0</td>\n",
       "      <td>113.3</td>\n",
       "      <td>...</td>\n",
       "      <td>0</td>\n",
       "      <td>0</td>\n",
       "      <td>0</td>\n",
       "      <td>0</td>\n",
       "      <td>0</td>\n",
       "      <td>0</td>\n",
       "      <td>1</td>\n",
       "      <td>0</td>\n",
       "      <td>0</td>\n",
       "      <td>0</td>\n",
       "    </tr>\n",
       "    <tr>\n",
       "      <th>23</th>\n",
       "      <td>11.0</td>\n",
       "      <td>138.0</td>\n",
       "      <td>246.0</td>\n",
       "      <td>56.1</td>\n",
       "      <td>1908.0</td>\n",
       "      <td>7.8</td>\n",
       "      <td>6.9</td>\n",
       "      <td>8.0</td>\n",
       "      <td>8.0</td>\n",
       "      <td>125.5</td>\n",
       "      <td>...</td>\n",
       "      <td>0</td>\n",
       "      <td>0</td>\n",
       "      <td>0</td>\n",
       "      <td>0</td>\n",
       "      <td>0</td>\n",
       "      <td>0</td>\n",
       "      <td>0</td>\n",
       "      <td>0</td>\n",
       "      <td>1</td>\n",
       "      <td>0</td>\n",
       "    </tr>\n",
       "    <tr>\n",
       "      <th>199</th>\n",
       "      <td>9.0</td>\n",
       "      <td>0.0</td>\n",
       "      <td>0.0</td>\n",
       "      <td>0.0</td>\n",
       "      <td>0.0</td>\n",
       "      <td>0.0</td>\n",
       "      <td>0.0</td>\n",
       "      <td>0.0</td>\n",
       "      <td>0.0</td>\n",
       "      <td>0.0</td>\n",
       "      <td>...</td>\n",
       "      <td>0</td>\n",
       "      <td>0</td>\n",
       "      <td>0</td>\n",
       "      <td>0</td>\n",
       "      <td>0</td>\n",
       "      <td>1</td>\n",
       "      <td>0</td>\n",
       "      <td>0</td>\n",
       "      <td>0</td>\n",
       "      <td>0</td>\n",
       "    </tr>\n",
       "  </tbody>\n",
       "</table>\n",
       "<p>5 rows × 149 columns</p>\n",
       "</div>"
      ],
      "text/plain": [
       "        g  pass_cmp  pass_att  pass_pct  pass_yds  pass_y/a  pass_ay/a  \\\n",
       "602  12.0       0.0       0.0       0.0       0.0       0.0        0.0   \n",
       "380  11.0       0.0       0.0       0.0       0.0       0.0        0.0   \n",
       "79   10.0     149.0     260.0      57.3    1617.0       6.2        5.8   \n",
       "23   11.0     138.0     246.0      56.1    1908.0       7.8        6.9   \n",
       "199   9.0       0.0       0.0       0.0       0.0       0.0        0.0   \n",
       "\n",
       "     pass_td  pass_int  pass_rate  ...  conf_Big East  conf_Big Ten  \\\n",
       "602      0.0       0.0        0.0  ...              0             0   \n",
       "380      0.0       0.0        0.0  ...              0             0   \n",
       "79       6.0       5.0      113.3  ...              0             0   \n",
       "23       8.0       8.0      125.5  ...              0             0   \n",
       "199      0.0       0.0        0.0  ...              0             0   \n",
       "\n",
       "     conf_Big West  conf_CUSA  conf_Ind  conf_MAC  conf_MWC  conf_Pac-10  \\\n",
       "602              0          0         0         0         0            0   \n",
       "380              0          0         0         0         0            0   \n",
       "79               0          0         0         0         1            0   \n",
       "23               0          0         0         0         0            0   \n",
       "199              0          0         0         1         0            0   \n",
       "\n",
       "     conf_SEC  conf_WAC  \n",
       "602         0         1  \n",
       "380         0         0  \n",
       "79          0         0  \n",
       "23          1         0  \n",
       "199         0         0  \n",
       "\n",
       "[5 rows x 149 columns]"
      ]
     },
     "execution_count": 78,
     "metadata": {},
     "output_type": "execute_result"
    }
   ],
   "source": [
    "X_train.head()"
   ]
  },
  {
   "cell_type": "code",
   "execution_count": null,
   "id": "8d1993d2-288c-4fbd-b266-f8bcb0acf9f4",
   "metadata": {},
   "outputs": [],
   "source": []
  },
  {
   "cell_type": "markdown",
   "id": "adc07700-d68d-40c5-ba0c-491db080b5ed",
   "metadata": {},
   "source": [
    "### Export data"
   ]
  },
  {
   "cell_type": "code",
   "execution_count": null,
   "id": "3739f9eb-e049-48c1-8ce1-b5208ecf62ae",
   "metadata": {
    "tags": []
   },
   "outputs": [],
   "source": [
    "# test_subset = test[X]\n",
    "# test_preds = lr.predict(test_subset)"
   ]
  },
  {
   "cell_type": "code",
   "execution_count": null,
   "id": "c1598690-5b85-476b-91ac-09319661ab70",
   "metadata": {},
   "outputs": [],
   "source": [
    "# test['SalePrice'] = test_preds"
   ]
  },
  {
   "cell_type": "code",
   "execution_count": null,
   "id": "000bbeea-1947-4141-98dc-8e44e2280911",
   "metadata": {},
   "outputs": [],
   "source": [
    "# test[['Id', 'SalePrice']].to_csv('submissions/second_model.csv', index=False)"
   ]
  },
  {
   "cell_type": "code",
   "execution_count": null,
   "id": "afa06b37-2bb2-443a-87b9-3168949c7106",
   "metadata": {},
   "outputs": [],
   "source": []
  },
  {
   "cell_type": "code",
   "execution_count": null,
   "id": "5d400157-0a60-4301-9117-137396bbd576",
   "metadata": {},
   "outputs": [],
   "source": []
  },
  {
   "cell_type": "code",
   "execution_count": null,
   "id": "707d6fac-1d8e-411f-9222-7f847a480b61",
   "metadata": {},
   "outputs": [],
   "source": []
  }
 ],
 "metadata": {
  "kernelspec": {
   "display_name": "Python 3",
   "language": "python",
   "name": "python3"
  },
  "language_info": {
   "codemirror_mode": {
    "name": "ipython",
    "version": 3
   },
   "file_extension": ".py",
   "mimetype": "text/x-python",
   "name": "python",
   "nbconvert_exporter": "python",
   "pygments_lexer": "ipython3",
   "version": "3.8.8"
  }
 },
 "nbformat": 4,
 "nbformat_minor": 5
}
